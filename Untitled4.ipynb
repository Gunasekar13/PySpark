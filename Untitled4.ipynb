{
  "nbformat": 4,
  "nbformat_minor": 0,
  "metadata": {
    "colab": {
      "provenance": [],
      "authorship_tag": "ABX9TyO16aS+XET+3bKEuR5L0T41",
      "include_colab_link": true
    },
    "kernelspec": {
      "name": "python3",
      "display_name": "Python 3"
    },
    "language_info": {
      "name": "python"
    }
  },
  "cells": [
    {
      "cell_type": "markdown",
      "metadata": {
        "id": "view-in-github",
        "colab_type": "text"
      },
      "source": [
        "<a href=\"https://colab.research.google.com/github/Gunasekar13/PySpark/blob/main/Untitled4.ipynb\" target=\"_parent\"><img src=\"https://colab.research.google.com/assets/colab-badge.svg\" alt=\"Open In Colab\"/></a>"
      ]
    },
    {
      "cell_type": "code",
      "source": [
        "!pip install pyspark py4j"
      ],
      "metadata": {
        "colab": {
          "base_uri": "https://localhost:8080/"
        },
        "id": "R0IuH6t4Hu9p",
        "outputId": "65c11775-eea5-431c-ae61-7d1589c0d222"
      },
      "execution_count": 2,
      "outputs": [
        {
          "output_type": "stream",
          "name": "stdout",
          "text": [
            "Looking in indexes: https://pypi.org/simple, https://us-python.pkg.dev/colab-wheels/public/simple/\n",
            "Collecting pyspark\n",
            "  Downloading pyspark-3.3.0.tar.gz (281.3 MB)\n",
            "\u001b[K     |████████████████████████████████| 281.3 MB 50 kB/s \n",
            "\u001b[?25hCollecting py4j\n",
            "  Downloading py4j-0.10.9.7-py2.py3-none-any.whl (200 kB)\n",
            "\u001b[K     |████████████████████████████████| 200 kB 44.2 MB/s \n",
            "\u001b[?25h  Downloading py4j-0.10.9.5-py2.py3-none-any.whl (199 kB)\n",
            "\u001b[K     |████████████████████████████████| 199 kB 38.5 MB/s \n",
            "\u001b[?25hBuilding wheels for collected packages: pyspark\n",
            "  Building wheel for pyspark (setup.py) ... \u001b[?25l\u001b[?25hdone\n",
            "  Created wheel for pyspark: filename=pyspark-3.3.0-py2.py3-none-any.whl size=281764026 sha256=5c47d123cb4ebef84a15fcc001a06998f9a9c98e341e1b24e5ad893a5238869b\n",
            "  Stored in directory: /root/.cache/pip/wheels/7a/8e/1b/f73a52650d2e5f337708d9f6a1750d451a7349a867f928b885\n",
            "Successfully built pyspark\n",
            "Installing collected packages: py4j, pyspark\n",
            "Successfully installed py4j-0.10.9.5 pyspark-3.3.0\n"
          ]
        }
      ]
    },
    {
      "cell_type": "code",
      "source": [
        "from pyspark.sql import SparkSession"
      ],
      "metadata": {
        "id": "5kzJUGfJIBZG"
      },
      "execution_count": 3,
      "outputs": []
    },
    {
      "cell_type": "code",
      "source": [
        "spark=SparkSession.builder.appName('Test_pyspark').getOrCreate()"
      ],
      "metadata": {
        "id": "y4W-mXVcIKlv"
      },
      "execution_count": 4,
      "outputs": []
    },
    {
      "cell_type": "code",
      "source": [
        "simpledata=[(10,'Administration',200,1700),\n",
        "(20,'Marketing',201,1800),\n",
        "(10,'Purchasing',114,1700),\n",
        "(40,'Human Resources',203,2400),\n",
        "(10,'Shipping',121,1500),\n",
        "(40,'IT',103,1400),\n",
        "(10,'Public Relations',204,2700),\n",
        "(30,'Sales',145,2500),\n",
        "(20,'Executive',100,1700)]\n",
        "\n",
        "column=['dept_id','dept_name','manager_id','salary']\n",
        "\n",
        "df=spark.createDataFrame(data=simpledata,schema=column)\n",
        "\n",
        "df.show()"
      ],
      "metadata": {
        "colab": {
          "base_uri": "https://localhost:8080/"
        },
        "id": "HSx3RF9HIXMC",
        "outputId": "363f6b19-4f4f-4139-a7d2-7728eeda7a15"
      },
      "execution_count": 5,
      "outputs": [
        {
          "output_type": "stream",
          "name": "stdout",
          "text": [
            "+-------+----------------+----------+------+\n",
            "|dept_id|       dept_name|manager_id|salary|\n",
            "+-------+----------------+----------+------+\n",
            "|     10|  Administration|       200|  1700|\n",
            "|     20|       Marketing|       201|  1800|\n",
            "|     10|      Purchasing|       114|  1700|\n",
            "|     40| Human Resources|       203|  2400|\n",
            "|     10|        Shipping|       121|  1500|\n",
            "|     40|              IT|       103|  1400|\n",
            "|     10|Public Relations|       204|  2700|\n",
            "|     30|           Sales|       145|  2500|\n",
            "|     20|       Executive|       100|  1700|\n",
            "+-------+----------------+----------+------+\n",
            "\n"
          ]
        }
      ]
    },
    {
      "cell_type": "markdown",
      "source": [
        "## **Create Temp View as sql**"
      ],
      "metadata": {
        "id": "uRjMQTKyI08C"
      }
    },
    {
      "cell_type": "markdown",
      "source": [
        "If you want to create temp view that is shared amoung all sessions and keep alive until the Spark application will be terminated , You can create a global temp View"
      ],
      "metadata": {
        "id": "SzyJLgSSNvCa"
      }
    },
    {
      "cell_type": "code",
      "source": [
        "df.createGlobalTempView('employee')\n",
        "spark.sql(\"select *from global_temp.employee\").show()"
      ],
      "metadata": {
        "colab": {
          "base_uri": "https://localhost:8080/"
        },
        "id": "s14VGFXyI76B",
        "outputId": "c5541c1a-10ef-4f65-c15f-3356b28476f2"
      },
      "execution_count": 6,
      "outputs": [
        {
          "output_type": "stream",
          "name": "stdout",
          "text": [
            "+-------+----------------+----------+------+\n",
            "|dept_id|       dept_name|manager_id|salary|\n",
            "+-------+----------------+----------+------+\n",
            "|     10|  Administration|       200|  1700|\n",
            "|     20|       Marketing|       201|  1800|\n",
            "|     10|      Purchasing|       114|  1700|\n",
            "|     40| Human Resources|       203|  2400|\n",
            "|     10|        Shipping|       121|  1500|\n",
            "|     40|              IT|       103|  1400|\n",
            "|     10|Public Relations|       204|  2700|\n",
            "|     30|           Sales|       145|  2500|\n",
            "|     20|       Executive|       100|  1700|\n",
            "+-------+----------------+----------+------+\n",
            "\n"
          ]
        }
      ]
    },
    {
      "cell_type": "code",
      "source": [
        "spark.sql(\\\n",
        "          \"Select dept_id,sum(salary)as dept_sal from global_temp.employee group by dept_id\"\\\n",
        "          ).show()"
      ],
      "metadata": {
        "colab": {
          "base_uri": "https://localhost:8080/"
        },
        "id": "5GcXt38HJgGL",
        "outputId": "6b5c08df-90e0-4628-9051-d77e8d73ccfc"
      },
      "execution_count": 10,
      "outputs": [
        {
          "output_type": "stream",
          "name": "stdout",
          "text": [
            "+-------+--------+\n",
            "|dept_id|dept_sal|\n",
            "+-------+--------+\n",
            "|     10|    7600|\n",
            "|     20|    3500|\n",
            "|     40|    3800|\n",
            "|     30|    2500|\n",
            "+-------+--------+\n",
            "\n"
          ]
        }
      ]
    },
    {
      "cell_type": "markdown",
      "source": [
        "### **User defined Functions**"
      ],
      "metadata": {
        "id": "Org2-RiVLXns"
      }
    },
    {
      "cell_type": "markdown",
      "source": [
        "udf is slow in pyspark because udf is python code is converted to jvm after that it will be runing . the difference is less execution time ."
      ],
      "metadata": {
        "id": "KQs2X2WWOPFz"
      }
    },
    {
      "cell_type": "code",
      "source": [
        "from pyspark.sql.functions import col,udf"
      ],
      "metadata": {
        "id": "IQvWEvszNGG4"
      },
      "execution_count": 12,
      "outputs": []
    },
    {
      "cell_type": "code",
      "source": [
        "def convert_case(str):\n",
        "  return str.upper()"
      ],
      "metadata": {
        "id": "GZQXbh39Pn3P"
      },
      "execution_count": 13,
      "outputs": []
    },
    {
      "cell_type": "code",
      "source": [
        "convert_udf=udf(lambda z:convert_case(z))"
      ],
      "metadata": {
        "id": "5xdkxhY2PSBa"
      },
      "execution_count": 14,
      "outputs": []
    },
    {
      "cell_type": "code",
      "source": [
        "df.select(col('dept_id'),convert_udf(col('dept_name').alias('Uppercase'))).show()"
      ],
      "metadata": {
        "colab": {
          "base_uri": "https://localhost:8080/"
        },
        "id": "n8IxIIJNNMyp",
        "outputId": "0fc335e6-57e5-4c2d-ebf2-1192eed8f2b7"
      },
      "execution_count": 15,
      "outputs": [
        {
          "output_type": "stream",
          "name": "stdout",
          "text": [
            "+-------+--------------------------------+\n",
            "|dept_id|<lambda>(dept_name AS Uppercase)|\n",
            "+-------+--------------------------------+\n",
            "|     10|                  ADMINISTRATION|\n",
            "|     20|                       MARKETING|\n",
            "|     10|                      PURCHASING|\n",
            "|     40|                 HUMAN RESOURCES|\n",
            "|     10|                        SHIPPING|\n",
            "|     40|                              IT|\n",
            "|     10|                PUBLIC RELATIONS|\n",
            "|     30|                           SALES|\n",
            "|     20|                       EXECUTIVE|\n",
            "+-------+--------------------------------+\n",
            "\n"
          ]
        }
      ]
    }
  ]
}