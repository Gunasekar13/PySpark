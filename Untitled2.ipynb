{
  "nbformat": 4,
  "nbformat_minor": 0,
  "metadata": {
    "colab": {
      "provenance": [],
      "authorship_tag": "ABX9TyMoKf8rSbCo57c56pQtcisx",
      "include_colab_link": true
    },
    "kernelspec": {
      "name": "python3",
      "display_name": "Python 3"
    },
    "language_info": {
      "name": "python"
    }
  },
  "cells": [
    {
      "cell_type": "markdown",
      "metadata": {
        "id": "view-in-github",
        "colab_type": "text"
      },
      "source": [
        "<a href=\"https://colab.research.google.com/github/Gunasekar13/PySpark/blob/main/Untitled2.ipynb\" target=\"_parent\"><img src=\"https://colab.research.google.com/assets/colab-badge.svg\" alt=\"Open In Colab\"/></a>"
      ]
    },
    {
      "cell_type": "code",
      "execution_count": null,
      "metadata": {
        "id": "lAy8g5tRl8G-",
        "colab": {
          "base_uri": "https://localhost:8080/"
        },
        "outputId": "5d47a397-739f-4a04-d725-ab33cd4dd9d3"
      },
      "outputs": [
        {
          "output_type": "stream",
          "name": "stdout",
          "text": [
            "Looking in indexes: https://pypi.org/simple, https://us-python.pkg.dev/colab-wheels/public/simple/\n",
            "Collecting pyspark\n",
            "  Downloading pyspark-3.3.0.tar.gz (281.3 MB)\n",
            "\u001b[K     |████████████████████████████████| 281.3 MB 45 kB/s \n",
            "\u001b[?25hCollecting py4j\n",
            "  Downloading py4j-0.10.9.7-py2.py3-none-any.whl (200 kB)\n",
            "\u001b[K     |████████████████████████████████| 200 kB 47.9 MB/s \n",
            "\u001b[?25h  Downloading py4j-0.10.9.5-py2.py3-none-any.whl (199 kB)\n",
            "\u001b[K     |████████████████████████████████| 199 kB 45.2 MB/s \n",
            "\u001b[?25hBuilding wheels for collected packages: pyspark\n",
            "  Building wheel for pyspark (setup.py) ... \u001b[?25l\u001b[?25hdone\n",
            "  Created wheel for pyspark: filename=pyspark-3.3.0-py2.py3-none-any.whl size=281764026 sha256=f6aae2fe2251850791f7903588818e766591a40f72898dcc916199429e203fb9\n",
            "  Stored in directory: /root/.cache/pip/wheels/7a/8e/1b/f73a52650d2e5f337708d9f6a1750d451a7349a867f928b885\n",
            "Successfully built pyspark\n",
            "Installing collected packages: py4j, pyspark\n",
            "Successfully installed py4j-0.10.9.5 pyspark-3.3.0\n"
          ]
        }
      ],
      "source": [
        "!pip install pyspark py4j"
      ]
    },
    {
      "cell_type": "code",
      "source": [
        "from pyspark.sql import SparkSession"
      ],
      "metadata": {
        "id": "xy8AU0EtA6Pk"
      },
      "execution_count": null,
      "outputs": []
    },
    {
      "cell_type": "code",
      "source": [
        "spark=SparkSession.builder.appName('test_pyspark').getOrCreate()"
      ],
      "metadata": {
        "id": "cR-r3x6YBTDH"
      },
      "execution_count": null,
      "outputs": []
    },
    {
      "cell_type": "code",
      "source": [
        "simpledata=[(10,'Administration',200,1700),\n",
        "(20,'Marketing',201,1800),\n",
        "(10,'Purchasing',114,1700),\n",
        "(40,'Human Resources',203,2400),\n",
        "(10,'Shipping',121,1500),\n",
        "(40,'IT',103,1400),\n",
        "(10,'Public Relations',204,2700),\n",
        "(30,'Sales',145,2500),\n",
        "(20,'Executive',100,1700)]\n",
        "\n",
        "column=['dept_id','dept_name','manager_id','salary']\n",
        "\n",
        "df=spark.createDataFrame(data=simpledata,schema=column)\n",
        "\n",
        "df.show()\n"
      ],
      "metadata": {
        "colab": {
          "base_uri": "https://localhost:8080/"
        },
        "id": "q8-xU_TwBhhw",
        "outputId": "15dc986a-27fd-487b-ae9f-43fb74a8af59"
      },
      "execution_count": null,
      "outputs": [
        {
          "output_type": "stream",
          "name": "stdout",
          "text": [
            "+-------+----------------+----------+------+\n",
            "|dept_id|       dept_name|manager_id|salary|\n",
            "+-------+----------------+----------+------+\n",
            "|     10|  Administration|       200|  1700|\n",
            "|     20|       Marketing|       201|  1800|\n",
            "|     10|      Purchasing|       114|  1700|\n",
            "|     40| Human Resources|       203|  2400|\n",
            "|     10|        Shipping|       121|  1500|\n",
            "|     40|              IT|       103|  1400|\n",
            "|     10|Public Relations|       204|  2700|\n",
            "|     30|           Sales|       145|  2500|\n",
            "|     20|       Executive|       100|  1700|\n",
            "+-------+----------------+----------+------+\n",
            "\n"
          ]
        }
      ]
    },
    {
      "cell_type": "markdown",
      "source": [
        " **print value in verticle form**"
      ],
      "metadata": {
        "id": "WT8_fuW2Q1zk"
      }
    },
    {
      "cell_type": "code",
      "source": [
        "df.show(vertical=True)"
      ],
      "metadata": {
        "colab": {
          "base_uri": "https://localhost:8080/"
        },
        "id": "xk5jIZSrB5Un",
        "outputId": "1bed4248-d9d2-4f21-dcc0-941d869b640d"
      },
      "execution_count": null,
      "outputs": [
        {
          "output_type": "stream",
          "name": "stdout",
          "text": [
            "-RECORD 0----------------------\n",
            " dept_id    | 10               \n",
            " dept_name  | Administration   \n",
            " manager_id | 200              \n",
            " salary     | 1700             \n",
            "-RECORD 1----------------------\n",
            " dept_id    | 20               \n",
            " dept_name  | Marketing        \n",
            " manager_id | 201              \n",
            " salary     | 1800             \n",
            "-RECORD 2----------------------\n",
            " dept_id    | 10               \n",
            " dept_name  | Purchasing       \n",
            " manager_id | 114              \n",
            " salary     | 1700             \n",
            "-RECORD 3----------------------\n",
            " dept_id    | 40               \n",
            " dept_name  | Human Resources  \n",
            " manager_id | 203              \n",
            " salary     | 2400             \n",
            "-RECORD 4----------------------\n",
            " dept_id    | 10               \n",
            " dept_name  | Shipping         \n",
            " manager_id | 121              \n",
            " salary     | 1500             \n",
            "-RECORD 5----------------------\n",
            " dept_id    | 40               \n",
            " dept_name  | IT               \n",
            " manager_id | 103              \n",
            " salary     | 1400             \n",
            "-RECORD 6----------------------\n",
            " dept_id    | 10               \n",
            " dept_name  | Public Relations \n",
            " manager_id | 204              \n",
            " salary     | 2700             \n",
            "-RECORD 7----------------------\n",
            " dept_id    | 30               \n",
            " dept_name  | Sales            \n",
            " manager_id | 145              \n",
            " salary     | 2500             \n",
            "-RECORD 8----------------------\n",
            " dept_id    | 20               \n",
            " dept_name  | Executive        \n",
            " manager_id | 100              \n",
            " salary     | 1700             \n",
            "\n"
          ]
        }
      ]
    },
    {
      "cell_type": "markdown",
      "source": [
        "**Or operation in filter**"
      ],
      "metadata": {
        "id": "aoHzQ8idVWEj"
      }
    },
    {
      "cell_type": "code",
      "source": [
        "from pyspark.sql.functions import col\n",
        "df.filter((col('dept_name')=='IT') | (col('dept_name')=='Executive')).show()"
      ],
      "metadata": {
        "colab": {
          "base_uri": "https://localhost:8080/"
        },
        "id": "Bd43a6hsBS2n",
        "outputId": "fb998d37-e479-4e8f-ba1e-e13dfc3f666c"
      },
      "execution_count": null,
      "outputs": [
        {
          "output_type": "stream",
          "name": "stdout",
          "text": [
            "+-------+---------+----------+------+\n",
            "|dept_id|dept_name|manager_id|salary|\n",
            "+-------+---------+----------+------+\n",
            "|     40|       IT|       103|  1400|\n",
            "|     20|Executive|       100|  1700|\n",
            "+-------+---------+----------+------+\n",
            "\n"
          ]
        }
      ]
    },
    {
      "cell_type": "markdown",
      "source": [
        "**And operation in filter**"
      ],
      "metadata": {
        "id": "uplEDa9RVdBk"
      }
    },
    {
      "cell_type": "code",
      "source": [
        "df.filter((col('salary')>=1500) & (col('salary')<=2000)).show()"
      ],
      "metadata": {
        "id": "W6TSqxiOR6tc",
        "colab": {
          "base_uri": "https://localhost:8080/"
        },
        "outputId": "437a59ca-2d98-4c79-8867-45e50c6a5e0d"
      },
      "execution_count": null,
      "outputs": [
        {
          "output_type": "stream",
          "name": "stdout",
          "text": [
            "+-------+--------------+----------+------+\n",
            "|dept_id|     dept_name|manager_id|salary|\n",
            "+-------+--------------+----------+------+\n",
            "|     10|Administration|       200|  1700|\n",
            "|     20|     Marketing|       201|  1800|\n",
            "|     10|    Purchasing|       114|  1700|\n",
            "|     10|      Shipping|       121|  1500|\n",
            "|     20|     Executive|       100|  1700|\n",
            "+-------+--------------+----------+------+\n",
            "\n"
          ]
        }
      ]
    },
    {
      "cell_type": "code",
      "source": [
        "df.cache()"
      ],
      "metadata": {
        "id": "X6lDl_nLR4c_",
        "colab": {
          "base_uri": "https://localhost:8080/"
        },
        "outputId": "5b16842d-51e7-4bf0-c54b-ccb1e194b70d"
      },
      "execution_count": null,
      "outputs": [
        {
          "output_type": "execute_result",
          "data": {
            "text/plain": [
              "DataFrame[dept_id: bigint, dept_name: string, manager_id: bigint, salary: bigint]"
            ]
          },
          "metadata": {},
          "execution_count": 8
        }
      ]
    },
    {
      "cell_type": "markdown",
      "source": [
        "**Group by ** "
      ],
      "metadata": {
        "id": "vwJMGaSeZVwY"
      }
    },
    {
      "cell_type": "code",
      "source": [
        "df.groupby('dept_id').count().show()"
      ],
      "metadata": {
        "id": "BiJBNOjlR4JP",
        "colab": {
          "base_uri": "https://localhost:8080/"
        },
        "outputId": "1874524d-97c7-4b5a-d7f2-f653d03f82dc"
      },
      "execution_count": null,
      "outputs": [
        {
          "output_type": "stream",
          "name": "stdout",
          "text": [
            "+-------+-----+\n",
            "|dept_id|count|\n",
            "+-------+-----+\n",
            "|     10|    4|\n",
            "|     20|    2|\n",
            "|     40|    2|\n",
            "|     30|    1|\n",
            "+-------+-----+\n",
            "\n"
          ]
        }
      ]
    },
    {
      "cell_type": "markdown",
      "source": [
        "**sum of**"
      ],
      "metadata": {
        "id": "Hp8VvgPwbWLj"
      }
    },
    {
      "cell_type": "code",
      "source": [
        "df.groupby('dept_id').sum('salary').show()"
      ],
      "metadata": {
        "id": "SwzykQD_R36p",
        "colab": {
          "base_uri": "https://localhost:8080/"
        },
        "outputId": "6ba8e50b-ae77-4db9-9774-af1acb22d1c0"
      },
      "execution_count": null,
      "outputs": [
        {
          "output_type": "stream",
          "name": "stdout",
          "text": [
            "+-------+-----------+\n",
            "|dept_id|sum(salary)|\n",
            "+-------+-----------+\n",
            "|     10|       7600|\n",
            "|     20|       3500|\n",
            "|     40|       3800|\n",
            "|     30|       2500|\n",
            "+-------+-----------+\n",
            "\n"
          ]
        }
      ]
    },
    {
      "cell_type": "markdown",
      "source": [
        "**Sum of with alias name**"
      ],
      "metadata": {
        "id": "PaIjEYDTbl0h"
      }
    },
    {
      "cell_type": "code",
      "source": [
        "df.groupby('dept_id').sum('salary').alias('sum_sal').show()"
      ],
      "metadata": {
        "id": "5yOasK2NR3qu",
        "colab": {
          "base_uri": "https://localhost:8080/"
        },
        "outputId": "f3e326d7-4a8e-4c73-efa5-beca7bee320e"
      },
      "execution_count": null,
      "outputs": [
        {
          "output_type": "stream",
          "name": "stdout",
          "text": [
            "+-------+-----------+\n",
            "|dept_id|sum(salary)|\n",
            "+-------+-----------+\n",
            "|     10|       7600|\n",
            "|     20|       3500|\n",
            "|     40|       3800|\n",
            "|     30|       2500|\n",
            "+-------+-----------+\n",
            "\n"
          ]
        }
      ]
    },
    {
      "cell_type": "markdown",
      "source": [
        "**Write multiple agg function in single query**"
      ],
      "metadata": {
        "id": "xyzUqZX7b1R8"
      }
    },
    {
      "cell_type": "code",
      "source": [
        "from pyspark.sql.functions import sum,max,min,avg,mean,col\n",
        "\n",
        "df.groupby('dept_id').agg(sum('salary').alias('sum_sal'),\\\n",
        "                          max('salary').alias('max_sal'),\\\n",
        "                          min('salary').alias('min_sal'),\\\n",
        "                          mean('salary').alias('mean_sal'),\\\n",
        "                          avg('salary').alias('avg_sal')).show()"
      ],
      "metadata": {
        "colab": {
          "base_uri": "https://localhost:8080/"
        },
        "id": "Jd2KYPazcXwS",
        "outputId": "20001d52-ff08-4efb-e2a0-a548658217da"
      },
      "execution_count": null,
      "outputs": [
        {
          "output_type": "stream",
          "name": "stdout",
          "text": [
            "+-------+-------+-------+-------+--------+-------+\n",
            "|dept_id|sum_sal|max_sal|min_sal|mean_sal|avg_sal|\n",
            "+-------+-------+-------+-------+--------+-------+\n",
            "|     10|   7600|   2700|   1500|  1900.0| 1900.0|\n",
            "|     20|   3500|   1800|   1700|  1750.0| 1750.0|\n",
            "|     40|   3800|   2400|   1400|  1900.0| 1900.0|\n",
            "|     30|   2500|   2500|   2500|  2500.0| 2500.0|\n",
            "+-------+-------+-------+-------+--------+-------+\n",
            "\n"
          ]
        }
      ]
    },
    {
      "cell_type": "markdown",
      "source": [
        "**where condition**"
      ],
      "metadata": {
        "id": "11V9kQCgdN0g"
      }
    },
    {
      "cell_type": "code",
      "source": [
        "from pyspark.sql.functions import col,sum\n",
        "df.where(col('dept_id')>20).show()"
      ],
      "metadata": {
        "colab": {
          "base_uri": "https://localhost:8080/"
        },
        "id": "L7ytf5wmdcbr",
        "outputId": "df3e824a-0f21-43f6-8a81-f871da8627b5"
      },
      "execution_count": null,
      "outputs": [
        {
          "output_type": "stream",
          "name": "stdout",
          "text": [
            "+-------+---------------+----------+------+\n",
            "|dept_id|      dept_name|manager_id|salary|\n",
            "+-------+---------------+----------+------+\n",
            "|     40|Human Resources|       203|  2400|\n",
            "|     40|             IT|       103|  1400|\n",
            "|     30|          Sales|       145|  2500|\n",
            "+-------+---------------+----------+------+\n",
            "\n"
          ]
        }
      ]
    },
    {
      "cell_type": "markdown",
      "source": [
        "*** agg function with where conditions ***\n"
      ],
      "metadata": {
        "id": "90U8kaMXdbup"
      }
    },
    {
      "cell_type": "code",
      "source": [
        "df.groupby('dept_id').sum('salary').alias('sum_sal').\\\n",
        "where(col('dept_id')>20).show()"
      ],
      "metadata": {
        "colab": {
          "base_uri": "https://localhost:8080/"
        },
        "id": "dZ0-jBp7eMWK",
        "outputId": "15d78053-d0b4-48a4-b1d6-66e59a572a24"
      },
      "execution_count": 15,
      "outputs": [
        {
          "output_type": "stream",
          "name": "stdout",
          "text": [
            "+-------+-----------+\n",
            "|dept_id|sum(salary)|\n",
            "+-------+-----------+\n",
            "|     40|       3800|\n",
            "|     30|       2500|\n",
            "+-------+-----------+\n",
            "\n"
          ]
        }
      ]
    },
    {
      "cell_type": "markdown",
      "source": [
        "***To find who are all dept_name start with 'p' ***"
      ],
      "metadata": {
        "id": "KLpytFVie3-b"
      }
    },
    {
      "cell_type": "code",
      "source": [
        "df.filter(col('dept_name').like('P%')).show()"
      ],
      "metadata": {
        "id": "DaxH6wfCe3ie",
        "colab": {
          "base_uri": "https://localhost:8080/"
        },
        "outputId": "e476a37a-bd60-45c9-f6ae-4814b81f4e96"
      },
      "execution_count": 19,
      "outputs": [
        {
          "output_type": "stream",
          "name": "stdout",
          "text": [
            "+-------+----------------+----------+------+\n",
            "|dept_id|       dept_name|manager_id|salary|\n",
            "+-------+----------------+----------+------+\n",
            "|     10|      Purchasing|       114|  1700|\n",
            "|     10|Public Relations|       204|  2700|\n",
            "+-------+----------------+----------+------+\n",
            "\n"
          ]
        }
      ]
    },
    {
      "cell_type": "code",
      "source": [
        "df.filter(col('dept_name').startswith('P')).show()"
      ],
      "metadata": {
        "colab": {
          "base_uri": "https://localhost:8080/"
        },
        "id": "GVeye7issA7c",
        "outputId": "6b7fb5ac-cece-4fb9-a4cb-10c73dc9885d"
      },
      "execution_count": 27,
      "outputs": [
        {
          "output_type": "stream",
          "name": "stdout",
          "text": [
            "+-------+----------------+----------+------+\n",
            "|dept_id|       dept_name|manager_id|salary|\n",
            "+-------+----------------+----------+------+\n",
            "|     10|      Purchasing|       114|  1700|\n",
            "|     10|Public Relations|       204|  2700|\n",
            "+-------+----------------+----------+------+\n",
            "\n"
          ]
        }
      ]
    },
    {
      "cell_type": "markdown",
      "source": [
        "***To find who are dept_name end with 'g'***"
      ],
      "metadata": {
        "id": "BoqzyEvTtlje"
      }
    },
    {
      "cell_type": "code",
      "source": [
        "df.filter(df.dept_name.like('%g')).show()"
      ],
      "metadata": {
        "colab": {
          "base_uri": "https://localhost:8080/"
        },
        "id": "kPpTI4ObtvMP",
        "outputId": "e417eaf9-87bb-4c5d-ef51-347d62cab3a7"
      },
      "execution_count": 28,
      "outputs": [
        {
          "output_type": "stream",
          "name": "stdout",
          "text": [
            "+-------+----------+----------+------+\n",
            "|dept_id| dept_name|manager_id|salary|\n",
            "+-------+----------+----------+------+\n",
            "|     20| Marketing|       201|  1800|\n",
            "|     10|Purchasing|       114|  1700|\n",
            "|     10|  Shipping|       121|  1500|\n",
            "+-------+----------+----------+------+\n",
            "\n"
          ]
        }
      ]
    },
    {
      "cell_type": "code",
      "source": [
        "df.filter(df.dept_name.endswith('g')).show()"
      ],
      "metadata": {
        "colab": {
          "base_uri": "https://localhost:8080/"
        },
        "id": "RS7ds15mt3rX",
        "outputId": "ddb90b1c-ce7f-4ceb-a854-fa3b3abc683f"
      },
      "execution_count": 29,
      "outputs": [
        {
          "output_type": "stream",
          "name": "stdout",
          "text": [
            "+-------+----------+----------+------+\n",
            "|dept_id| dept_name|manager_id|salary|\n",
            "+-------+----------+----------+------+\n",
            "|     20| Marketing|       201|  1800|\n",
            "|     10|Purchasing|       114|  1700|\n",
            "|     10|  Shipping|       121|  1500|\n",
            "+-------+----------+----------+------+\n",
            "\n"
          ]
        }
      ]
    },
    {
      "cell_type": "markdown",
      "source": [
        "***To find the dept_name who are all having 'e' in name***"
      ],
      "metadata": {
        "id": "Aw2VPXsTuAtM"
      }
    },
    {
      "cell_type": "code",
      "source": [
        "df.filter(df.dept_name.like('%e%')).show()"
      ],
      "metadata": {
        "colab": {
          "base_uri": "https://localhost:8080/"
        },
        "id": "ixFINfIRuJ2V",
        "outputId": "30f18fbc-dad2-4a29-837e-26db9c02978a"
      },
      "execution_count": 30,
      "outputs": [
        {
          "output_type": "stream",
          "name": "stdout",
          "text": [
            "+-------+----------------+----------+------+\n",
            "|dept_id|       dept_name|manager_id|salary|\n",
            "+-------+----------------+----------+------+\n",
            "|     20|       Marketing|       201|  1800|\n",
            "|     40| Human Resources|       203|  2400|\n",
            "|     10|Public Relations|       204|  2700|\n",
            "|     30|           Sales|       145|  2500|\n",
            "|     20|       Executive|       100|  1700|\n",
            "+-------+----------------+----------+------+\n",
            "\n"
          ]
        }
      ]
    },
    {
      "cell_type": "markdown",
      "source": [
        "***To find who are all dept_name having 'a' in second letter***"
      ],
      "metadata": {
        "id": "rKcNrfVruSai"
      }
    },
    {
      "cell_type": "code",
      "source": [
        "df.filter(df.dept_name.like('_a%')).show()"
      ],
      "metadata": {
        "colab": {
          "base_uri": "https://localhost:8080/"
        },
        "id": "sjpfZKgLucR9",
        "outputId": "41bb0ad9-7241-428b-880a-3bf2c3190168"
      },
      "execution_count": 31,
      "outputs": [
        {
          "output_type": "stream",
          "name": "stdout",
          "text": [
            "+-------+---------+----------+------+\n",
            "|dept_id|dept_name|manager_id|salary|\n",
            "+-------+---------+----------+------+\n",
            "|     20|Marketing|       201|  1800|\n",
            "|     30|    Sales|       145|  2500|\n",
            "+-------+---------+----------+------+\n",
            "\n"
          ]
        }
      ]
    },
    {
      "cell_type": "markdown",
      "source": [
        "***change the column name 'Dept_name' To 'department'***"
      ],
      "metadata": {
        "id": "E4Lx4b7KusxT"
      }
    },
    {
      "cell_type": "code",
      "source": [
        "df.withColumnRenamed('dept_name','department').show()"
      ],
      "metadata": {
        "colab": {
          "base_uri": "https://localhost:8080/"
        },
        "id": "mQyalcIovC1M",
        "outputId": "b5a071d0-4f1f-4a18-abc9-97968c7eade8"
      },
      "execution_count": 33,
      "outputs": [
        {
          "output_type": "stream",
          "name": "stdout",
          "text": [
            "+-------+----------------+----------+------+\n",
            "|dept_id|      department|manager_id|salary|\n",
            "+-------+----------------+----------+------+\n",
            "|     10|  Administration|       200|  1700|\n",
            "|     20|       Marketing|       201|  1800|\n",
            "|     10|      Purchasing|       114|  1700|\n",
            "|     40| Human Resources|       203|  2400|\n",
            "|     10|        Shipping|       121|  1500|\n",
            "|     40|              IT|       103|  1400|\n",
            "|     10|Public Relations|       204|  2700|\n",
            "|     30|           Sales|       145|  2500|\n",
            "|     20|       Executive|       100|  1700|\n",
            "+-------+----------------+----------+------+\n",
            "\n"
          ]
        }
      ]
    },
    {
      "cell_type": "markdown",
      "source": [
        "***Change the column name ('salary' to 'sal' ) and ('department' to 'dept_id')***"
      ],
      "metadata": {
        "id": "bkm8o08pvCIW"
      }
    },
    {
      "cell_type": "code",
      "source": [
        "df.withColumnRenamed('salary','sal').withColumnRenamed('department','dept_id').show()"
      ],
      "metadata": {
        "colab": {
          "base_uri": "https://localhost:8080/"
        },
        "id": "n2RwTE8Zvqug",
        "outputId": "7eab0c13-ad3d-455f-c30a-056afc48d355"
      },
      "execution_count": 34,
      "outputs": [
        {
          "output_type": "stream",
          "name": "stdout",
          "text": [
            "+-------+----------------+----------+----+\n",
            "|dept_id|       dept_name|manager_id| sal|\n",
            "+-------+----------------+----------+----+\n",
            "|     10|  Administration|       200|1700|\n",
            "|     20|       Marketing|       201|1800|\n",
            "|     10|      Purchasing|       114|1700|\n",
            "|     40| Human Resources|       203|2400|\n",
            "|     10|        Shipping|       121|1500|\n",
            "|     40|              IT|       103|1400|\n",
            "|     10|Public Relations|       204|2700|\n",
            "|     30|           Sales|       145|2500|\n",
            "|     20|       Executive|       100|1700|\n",
            "+-------+----------------+----------+----+\n",
            "\n"
          ]
        }
      ]
    }
  ]
}